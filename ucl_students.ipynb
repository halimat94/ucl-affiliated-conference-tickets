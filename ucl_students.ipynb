{
 "cells": [
  {
   "cell_type": "code",
   "execution_count": 85,
   "metadata": {
    "scrolled": true
   },
   "outputs": [],
   "source": [
    "from bs4 import BeautifulSoup\n",
    "from urllib.request import urlopen\n",
    "import csv\n",
    "import pandas as pd\n",
    "import selenium.webdriver as webdriver"
   ]
  },
  {
   "cell_type": "code",
   "execution_count": 86,
   "metadata": {
    "scrolled": true
   },
   "outputs": [],
   "source": [
    "df = pd.read_excel(\"orders.xlsx\")"
   ]
  },
  {
   "cell_type": "code",
   "execution_count": 87,
   "metadata": {
    "scrolled": true
   },
   "outputs": [],
   "source": [
    "df.columns = df.iloc[0] "
   ]
  },
  {
   "cell_type": "code",
   "execution_count": 88,
   "metadata": {
    "scrolled": true
   },
   "outputs": [],
   "source": [
    "df = df[1:]"
   ]
  },
  {
   "cell_type": "code",
   "execution_count": 139,
   "metadata": {
    "scrolled": true
   },
   "outputs": [],
   "source": [
    "def get_results():\n",
    "        for name,last_name in zip(df['First Name'], df['Surname']):\n",
    "            first_name = name\n",
    "            surname = last_name\n",
    "            try:\n",
    "                url = \"http://search2.ucl.ac.uk/s/search.html?query=\" + first_name + \"+\" + surname + \"&collection=website-meta&profile=_directory&tab=directory\"\n",
    "                browser = webdriver.Chrome(\"/Users/zainabafolabi/Documents/chromedriver\")\n",
    "                browser.get(url)\n",
    "                search_page = urlopen(url)\n",
    "                soup = BeautifulSoup(search_page, \"html.parser\")\n",
    "                full_name = soup.find(\"li\", attrs={\"class\": \"fn\"})\n",
    "                if full_name != None:\n",
    "                    email = soup.find(\"li\", attrs={\"class\": \"email\"})\n",
    "                    with open(\"ucl_students.csv\", \"a\") as csv_file:\n",
    "                        writer = csv.writer(csv_file)\n",
    "                        writer.writerow([full_name.text, email.text])\n",
    "                        browser.quit() \n",
    "                else:\n",
    "                    browser.quit()\n",
    "            except:\n",
    "                pass\n",
    "\n"
   ]
  },
  {
   "cell_type": "code",
   "execution_count": 140,
   "metadata": {},
   "outputs": [],
   "source": [
    "get_results()"
   ]
  },
  {
   "cell_type": "code",
   "execution_count": null,
   "metadata": {},
   "outputs": [],
   "source": []
  }
 ],
 "metadata": {
  "kernelspec": {
   "display_name": "Python 3",
   "language": "python",
   "name": "python3"
  },
  "language_info": {
   "codemirror_mode": {
    "name": "ipython",
    "version": 3
   },
   "file_extension": ".py",
   "mimetype": "text/x-python",
   "name": "python",
   "nbconvert_exporter": "python",
   "pygments_lexer": "ipython3",
   "version": "3.6.4"
  }
 },
 "nbformat": 4,
 "nbformat_minor": 2
}
